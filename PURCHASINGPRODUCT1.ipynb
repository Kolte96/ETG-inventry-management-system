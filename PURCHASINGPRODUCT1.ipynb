{
 "cells": [
  {
   "cell_type": "code",
   "execution_count": 39,
   "id": "49fa7c48",
   "metadata": {},
   "outputs": [],
   "source": [
    "fd = open(\"bhau.txt\",'r')\n",
    "u= fd.read()\n",
    "fd.close()"
   ]
  },
  {
   "cell_type": "code",
   "execution_count": 40,
   "id": "8101fc35",
   "metadata": {},
   "outputs": [],
   "source": [
    "import json"
   ]
  },
  {
   "cell_type": "code",
   "execution_count": 41,
   "id": "97d9c0a0",
   "metadata": {},
   "outputs": [],
   "source": [
    "js=json.dumps(u)"
   ]
  },
  {
   "cell_type": "code",
   "execution_count": 42,
   "id": "cc47ceb5",
   "metadata": {},
   "outputs": [],
   "source": [
    "fd= open(\"bhau.json\",'w')\n",
    "fd.write(js)\n",
    "fd.close()"
   ]
  },
  {
   "cell_type": "code",
   "execution_count": 43,
   "id": "f1d692e3",
   "metadata": {},
   "outputs": [],
   "source": [
    "fd=open(\"bhau.json\",'r')\n",
    "u=fd.read()\n",
    "fd.close()\n",
    "\n"
   ]
  },
  {
   "cell_type": "code",
   "execution_count": 44,
   "id": "0a7f6ce9",
   "metadata": {},
   "outputs": [],
   "source": [
    "e= json.loads(u)"
   ]
  },
  {
   "cell_type": "code",
   "execution_count": 45,
   "id": "26abeed8",
   "metadata": {},
   "outputs": [],
   "source": [
    "g= json.loads(e)"
   ]
  },
  {
   "cell_type": "code",
   "execution_count": 47,
   "id": "6bf12288",
   "metadata": {},
   "outputs": [
    {
     "data": {
      "text/plain": [
       "{'1': {'name': 'choco_cake',\n",
       "  'pr': 100,\n",
       "  'qn': 99,\n",
       "  'discount': 0.6,\n",
       "  'expiry_date': '2may'},\n",
       " '2': {'name': 'milk',\n",
       "  'pr': 80,\n",
       "  'qn': 94,\n",
       "  'discount': 0.2,\n",
       "  'expiry_date': '2days'},\n",
       " '3': {'name': 'drink',\n",
       "  'pr': 90,\n",
       "  'qn': 30,\n",
       "  'discount': 2,\n",
       "  'expiry_date': '29jan'},\n",
       " '4': {'name': 'coffee',\n",
       "  'pr': 30,\n",
       "  'qn': 20,\n",
       "  'discount': 0.1,\n",
       "  'expiry_date': 'that_day'},\n",
       " '5': {'name': 'roti',\n",
       "  'pr': 15,\n",
       "  'qn': 50,\n",
       "  'discount': 0.5,\n",
       "  'expiry_date': 'before24_hours'},\n",
       " '6': {'name': 'pen',\n",
       "  'pr': 10,\n",
       "  'qn': 90,\n",
       "  'discount': 0.9,\n",
       "  'expiry_date': 'before1year'},\n",
       " '7': {'name': 'biscuit',\n",
       "  'pr': 10,\n",
       "  'qn': 30,\n",
       "  'discount': 0.3,\n",
       "  'expiry_date': '6moths_from_manifacture'},\n",
       " '8': {'name': 'soap',\n",
       "  'pr': 40,\n",
       "  'qn': 60,\n",
       "  'discount': 5,\n",
       "  'expiry_date': '1year'},\n",
       " '9': {'name': 'colgate',\n",
       "  'pr': 80,\n",
       "  'qn': 70,\n",
       "  'discount': 0.7,\n",
       "  'expiry_date': '5jun2021'},\n",
       " '10': {'name': 'facewash',\n",
       "  'pr': 45,\n",
       "  'qn': 60,\n",
       "  'discount': 3,\n",
       "  'expiry_date': 'after6_months'},\n",
       " '11': {'name': 'mobile',\n",
       "  'pr': 60000,\n",
       "  'qn': 30,\n",
       "  'discount': 10,\n",
       "  'expiry_date': '1year_warrenty'},\n",
       " '12': {'name': 'bulb',\n",
       "  'pr': 90,\n",
       "  'qn': 45,\n",
       "  'discount': 0.6,\n",
       "  'expiry_date': 'after1_year'},\n",
       " '13': {'name': 'watch',\n",
       "  'pr': 580,\n",
       "  'qn': 98,\n",
       "  'discount': 13,\n",
       "  'expiry_date': '1Year_warrenty'},\n",
       " '14': {'name': 'Khurchi',\n",
       "  'pr': 600,\n",
       "  'qn': 43,\n",
       "  'discount': 0.9,\n",
       "  'expiry_date': '1year_warrenty'},\n",
       " '15': {'name': 'bat',\n",
       "  'pr': 6000,\n",
       "  'qn': 8,\n",
       "  'discount': 9,\n",
       "  'expiry_date': '1year_warrenty'},\n",
       " '16': {'name': 'helmet',\n",
       "  'pr': 900,\n",
       "  'qn': 300,\n",
       "  'discount': 3.5,\n",
       "  'expiry_date': '3yearWarrenty'},\n",
       " '17': {'name': 'pizza',\n",
       "  'pr': 99,\n",
       "  'qn': 70,\n",
       "  'discount': 9,\n",
       "  'expiry_date': 'after24_hours'},\n",
       " '18': {'name': 'burger',\n",
       "  'pr': 129,\n",
       "  'qn': 90,\n",
       "  'discount': 8,\n",
       "  'expiry_date': 'after24_hours'},\n",
       " '19': {'name': 'cement',\n",
       "  'pr': 650,\n",
       "  'qn': 900,\n",
       "  'discount': 5,\n",
       "  'expiry_date': 'aftr6_months'},\n",
       " '20': {'name': 'Battery',\n",
       "  'pr': 1000,\n",
       "  'qn': 30,\n",
       "  'discount': 22,\n",
       "  'expiry_date': '1year_warrenty'},\n",
       " '21': {'name': 'paint',\n",
       "  'pr': 20000,\n",
       "  'qn': 66,\n",
       "  'discount': 14,\n",
       "  'expiry_date': 'after2year'},\n",
       " '22': {'name': 'Shoes',\n",
       "  'pr': 990,\n",
       "  'qn': 34,\n",
       "  'discount': 23,\n",
       "  'expiry_date': '1year_warrenty'},\n",
       " '23': {'name': 'tshirt',\n",
       "  'pr': 790,\n",
       "  'qn': 340,\n",
       "  'discount': 1,\n",
       "  'expiry_date': '2year_garenty'},\n",
       " '24': {'name': 'pant',\n",
       "  'pr': 690,\n",
       "  'qn': 630,\n",
       "  'discount': 3,\n",
       "  'expiry_date': 'after6_yeaer'},\n",
       " '25': {'name': 'icecream',\n",
       "  'pr': 50,\n",
       "  'qn': 730,\n",
       "  'discount': 2,\n",
       "  'expiry_date': 'after2_months'},\n",
       " '26': {'name': 'farsan',\n",
       "  'pr': 900,\n",
       "  'qn': 80,\n",
       "  'discount': 7,\n",
       "  'expiry_date': '6mothsafter_packaging'},\n",
       " '27': {'name': 'nirma',\n",
       "  'pr': 390,\n",
       "  'qn': 90,\n",
       "  'discount': 8,\n",
       "  'expiry_date': '8may2022'},\n",
       " '28': {'name': 'Rasna',\n",
       "  'pr': 190,\n",
       "  'qn': 120,\n",
       "  'discount': 3,\n",
       "  'expiry_date': 'after_6month'},\n",
       " '29': {'name': 'mango_juice',\n",
       "  'pr': 70,\n",
       "  'qn': 50,\n",
       "  'discount': 0.1,\n",
       "  'expiry_date': 'after24_hours'},\n",
       " '30': {'name': 'Cadbury',\n",
       "  'pr': 180,\n",
       "  'qn': 50,\n",
       "  'discount': 0.2,\n",
       "  'expiry_date': 'after3_month'}}"
      ]
     },
     "execution_count": 47,
     "metadata": {},
     "output_type": "execute_result"
    }
   ],
   "source": [
    "g"
   ]
  },
  {
   "cell_type": "markdown",
   "id": "30b7ad42",
   "metadata": {},
   "source": [
    "PURCHASE"
   ]
  },
  {
   "cell_type": "code",
   "execution_count": 49,
   "id": "647f0129",
   "metadata": {},
   "outputs": [
    {
     "name": "stdout",
     "output_type": "stream",
     "text": [
      "enter the transaction id:6\n",
      "enter the quantity:3\n"
     ]
    }
   ],
   "source": [
    "ui_prod =str(input(\"enter the transaction id:\"))\n",
    "ui_quant=input(\"enter the quantity:\")"
   ]
  },
  {
   "cell_type": "code",
   "execution_count": 51,
   "id": "81f3f217",
   "metadata": {},
   "outputs": [
    {
     "data": {
      "text/plain": [
       "90"
      ]
     },
     "execution_count": 51,
     "metadata": {},
     "output_type": "execute_result"
    }
   ],
   "source": [
    "g[ui_prod]['qn']"
   ]
  },
  {
   "cell_type": "code",
   "execution_count": 74,
   "id": "264af41a",
   "metadata": {},
   "outputs": [
    {
     "name": "stdout",
     "output_type": "stream",
     "text": [
      "Enter the product id3\n",
      "Enter the quantity4\n",
      "Product: drink\n",
      "Price: 90\n",
      "Quantity: 30\n",
      "Discount: 2\n",
      "Expiry_date: 29jan\n",
      "Billing of product: 360\n",
      "Total discount: 180\n",
      "Total Bill: 180\n"
     ]
    }
   ],
   "source": [
    "ui_prod =input(str(\"Enter the product id\"))\n",
    "ui_quant = input(\"Enter the quantity\")\n",
    "\n",
    "print(\"Product:\",g[ui_prod]['name'])\n",
    "print(\"Price:\",g[ui_prod]['pr'])\n",
    "print(\"Quantity:\",g[ui_prod]['qn'])\n",
    "print(\"Discount:\",g[ui_prod]['discount'])\n",
    "print(\"Expiry_date:\",g[ui_prod]['expiry_date'])\n",
    "print(\"Billing of product:\",g[ui_prod]['pr'] * int(ui_quant))\n",
    "print(\"Total discount:\",g[ui_prod]['pr']  * (g[ui_prod]['discount']))\n",
    "print(\"Total Bill:\",(g[ui_prod]['pr'] * int(ui_quant)) - (g[ui_prod]['pr'])  * (g[ui_prod]['discount']))\n",
    "\n",
    "g[ui_prod]['qn'] = g[ui_prod]['qn'] - int(ui_quant)"
   ]
  },
  {
   "cell_type": "code",
   "execution_count": null,
   "id": "b8b4a533",
   "metadata": {},
   "outputs": [],
   "source": []
  },
  {
   "cell_type": "code",
   "execution_count": 75,
   "id": "731cbef1",
   "metadata": {},
   "outputs": [
    {
     "data": {
      "text/plain": [
       "{'1': {'name': 'choco_cake',\n",
       "  'pr': 100,\n",
       "  'qn': 99,\n",
       "  'discount': 0.6,\n",
       "  'expiry_date': '2may'},\n",
       " '2': {'name': 'milk',\n",
       "  'pr': 80,\n",
       "  'qn': 94,\n",
       "  'discount': 0.2,\n",
       "  'expiry_date': '2days'},\n",
       " '3': {'name': 'drink',\n",
       "  'pr': 90,\n",
       "  'qn': 26,\n",
       "  'discount': 2,\n",
       "  'expiry_date': '29jan'},\n",
       " '4': {'name': 'coffee',\n",
       "  'pr': 30,\n",
       "  'qn': 14,\n",
       "  'discount': 0.1,\n",
       "  'expiry_date': 'that_day'},\n",
       " '5': {'name': 'roti',\n",
       "  'pr': 15,\n",
       "  'qn': 50,\n",
       "  'discount': 0.5,\n",
       "  'expiry_date': 'before24_hours'},\n",
       " '6': {'name': 'pen',\n",
       "  'pr': 10,\n",
       "  'qn': 90,\n",
       "  'discount': 0.9,\n",
       "  'expiry_date': 'before1year'},\n",
       " '7': {'name': 'biscuit',\n",
       "  'pr': 10,\n",
       "  'qn': 30,\n",
       "  'discount': 0.3,\n",
       "  'expiry_date': '6moths_from_manifacture'},\n",
       " '8': {'name': 'soap',\n",
       "  'pr': 40,\n",
       "  'qn': 60,\n",
       "  'discount': 5,\n",
       "  'expiry_date': '1year'},\n",
       " '9': {'name': 'colgate',\n",
       "  'pr': 80,\n",
       "  'qn': 70,\n",
       "  'discount': 0.7,\n",
       "  'expiry_date': '5jun2021'},\n",
       " '10': {'name': 'facewash',\n",
       "  'pr': 45,\n",
       "  'qn': 60,\n",
       "  'discount': 3,\n",
       "  'expiry_date': 'after6_months'},\n",
       " '11': {'name': 'mobile',\n",
       "  'pr': 60000,\n",
       "  'qn': 30,\n",
       "  'discount': 10,\n",
       "  'expiry_date': '1year_warrenty'},\n",
       " '12': {'name': 'bulb',\n",
       "  'pr': 90,\n",
       "  'qn': 45,\n",
       "  'discount': 0.6,\n",
       "  'expiry_date': 'after1_year'},\n",
       " '13': {'name': 'watch',\n",
       "  'pr': 580,\n",
       "  'qn': 98,\n",
       "  'discount': 13,\n",
       "  'expiry_date': '1Year_warrenty'},\n",
       " '14': {'name': 'Khurchi',\n",
       "  'pr': 600,\n",
       "  'qn': 43,\n",
       "  'discount': 0.9,\n",
       "  'expiry_date': '1year_warrenty'},\n",
       " '15': {'name': 'bat',\n",
       "  'pr': 6000,\n",
       "  'qn': 8,\n",
       "  'discount': 9,\n",
       "  'expiry_date': '1year_warrenty'},\n",
       " '16': {'name': 'helmet',\n",
       "  'pr': 900,\n",
       "  'qn': 300,\n",
       "  'discount': 3.5,\n",
       "  'expiry_date': '3yearWarrenty'},\n",
       " '17': {'name': 'pizza',\n",
       "  'pr': 99,\n",
       "  'qn': 70,\n",
       "  'discount': 9,\n",
       "  'expiry_date': 'after24_hours'},\n",
       " '18': {'name': 'burger',\n",
       "  'pr': 129,\n",
       "  'qn': 90,\n",
       "  'discount': 8,\n",
       "  'expiry_date': 'after24_hours'},\n",
       " '19': {'name': 'cement',\n",
       "  'pr': 650,\n",
       "  'qn': 900,\n",
       "  'discount': 5,\n",
       "  'expiry_date': 'aftr6_months'},\n",
       " '20': {'name': 'Battery',\n",
       "  'pr': 1000,\n",
       "  'qn': 30,\n",
       "  'discount': 22,\n",
       "  'expiry_date': '1year_warrenty'},\n",
       " '21': {'name': 'paint',\n",
       "  'pr': 20000,\n",
       "  'qn': 66,\n",
       "  'discount': 14,\n",
       "  'expiry_date': 'after2year'},\n",
       " '22': {'name': 'Shoes',\n",
       "  'pr': 990,\n",
       "  'qn': 34,\n",
       "  'discount': 23,\n",
       "  'expiry_date': '1year_warrenty'},\n",
       " '23': {'name': 'tshirt',\n",
       "  'pr': 790,\n",
       "  'qn': 340,\n",
       "  'discount': 1,\n",
       "  'expiry_date': '2year_garenty'},\n",
       " '24': {'name': 'pant',\n",
       "  'pr': 690,\n",
       "  'qn': 630,\n",
       "  'discount': 3,\n",
       "  'expiry_date': 'after6_yeaer'},\n",
       " '25': {'name': 'icecream',\n",
       "  'pr': 50,\n",
       "  'qn': 730,\n",
       "  'discount': 2,\n",
       "  'expiry_date': 'after2_months'},\n",
       " '26': {'name': 'farsan',\n",
       "  'pr': 900,\n",
       "  'qn': 80,\n",
       "  'discount': 7,\n",
       "  'expiry_date': '6mothsafter_packaging'},\n",
       " '27': {'name': 'nirma',\n",
       "  'pr': 390,\n",
       "  'qn': 90,\n",
       "  'discount': 8,\n",
       "  'expiry_date': '8may2022'},\n",
       " '28': {'name': 'Rasna',\n",
       "  'pr': 190,\n",
       "  'qn': 120,\n",
       "  'discount': 3,\n",
       "  'expiry_date': 'after_6month'},\n",
       " '29': {'name': 'mango_juice',\n",
       "  'pr': 70,\n",
       "  'qn': 50,\n",
       "  'discount': 0.1,\n",
       "  'expiry_date': 'after24_hours'},\n",
       " '30': {'name': 'Cadbury',\n",
       "  'pr': 180,\n",
       "  'qn': 50,\n",
       "  'discount': 0.2,\n",
       "  'expiry_date': 'after3_month'}}"
      ]
     },
     "execution_count": 75,
     "metadata": {},
     "output_type": "execute_result"
    }
   ],
   "source": [
    "g"
   ]
  },
  {
   "cell_type": "markdown",
   "id": "3152a19e",
   "metadata": {},
   "source": [
    "UPDATE INVENTRY AFTER PURCHASE"
   ]
  },
  {
   "cell_type": "code",
   "execution_count": 77,
   "id": "b020c021",
   "metadata": {},
   "outputs": [],
   "source": [
    "js = json.dumps(g)\n",
    "\n",
    "fd= open(\"g.json\",'w')\n",
    "fd.write(js)\n",
    "fd.close()"
   ]
  },
  {
   "cell_type": "code",
   "execution_count": null,
   "id": "94c62b77",
   "metadata": {},
   "outputs": [],
   "source": []
  },
  {
   "cell_type": "code",
   "execution_count": null,
   "id": "5a99f406",
   "metadata": {},
   "outputs": [],
   "source": []
  }
 ],
 "metadata": {
  "kernelspec": {
   "display_name": "Python 3",
   "language": "python",
   "name": "python3"
  },
  "language_info": {
   "codemirror_mode": {
    "name": "ipython",
    "version": 3
   },
   "file_extension": ".py",
   "mimetype": "text/x-python",
   "name": "python",
   "nbconvert_exporter": "python",
   "pygments_lexer": "ipython3",
   "version": "3.8.8"
  }
 },
 "nbformat": 4,
 "nbformat_minor": 5
}
