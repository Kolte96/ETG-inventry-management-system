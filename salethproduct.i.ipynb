{
 "cells": [
  {
   "cell_type": "code",
   "execution_count": 131,
   "id": "8c3b5de0",
   "metadata": {},
   "outputs": [],
   "source": [
    "fd= open(\"record6.txt\",'r')\n",
    "re=fd.read()\n",
    "fd.close()"
   ]
  },
  {
   "cell_type": "code",
   "execution_count": 132,
   "id": "efe2e384",
   "metadata": {},
   "outputs": [
    {
     "data": {
      "text/plain": [
       "'{\"1\": {\"name\": \"choco_cake\", \"pr\": 100, \"qn\": 99, \"discount\": 0.6, \"expiry_date\": \"2may\"},\\n\"2\": {\"name\": \"milk\", \"pr\": 80, \"qn\": 94, \"discount\": 0.2, \"expiry_date\": \"13jun\"},\\n\"3\": {\"name\": \"drink\", \"pr\": 90, \"qn\": 30, \"discount\": 2, \"expiry_date\": \"29jan\"}}'"
      ]
     },
     "execution_count": 132,
     "metadata": {},
     "output_type": "execute_result"
    }
   ],
   "source": [
    "re"
   ]
  },
  {
   "cell_type": "code",
   "execution_count": 133,
   "id": "5106c386",
   "metadata": {},
   "outputs": [],
   "source": [
    "import json\n"
   ]
  },
  {
   "cell_type": "code",
   "execution_count": 134,
   "id": "00b29671",
   "metadata": {},
   "outputs": [],
   "source": [
    "js=json.dumps(re)"
   ]
  },
  {
   "cell_type": "code",
   "execution_count": 135,
   "id": "cf2342dc",
   "metadata": {},
   "outputs": [
    {
     "data": {
      "text/plain": [
       "'\"{\\\\\"1\\\\\": {\\\\\"name\\\\\": \\\\\"choco_cake\\\\\", \\\\\"pr\\\\\": 100, \\\\\"qn\\\\\": 99, \\\\\"discount\\\\\": 0.6, \\\\\"expiry_date\\\\\": \\\\\"2may\\\\\"},\\\\n\\\\\"2\\\\\": {\\\\\"name\\\\\": \\\\\"milk\\\\\", \\\\\"pr\\\\\": 80, \\\\\"qn\\\\\": 94, \\\\\"discount\\\\\": 0.2, \\\\\"expiry_date\\\\\": \\\\\"13jun\\\\\"},\\\\n\\\\\"3\\\\\": {\\\\\"name\\\\\": \\\\\"drink\\\\\", \\\\\"pr\\\\\": 90, \\\\\"qn\\\\\": 30, \\\\\"discount\\\\\": 2, \\\\\"expiry_date\\\\\": \\\\\"29jan\\\\\"}}\"'"
      ]
     },
     "execution_count": 135,
     "metadata": {},
     "output_type": "execute_result"
    }
   ],
   "source": [
    "js"
   ]
  },
  {
   "cell_type": "code",
   "execution_count": 136,
   "id": "3e413b5e",
   "metadata": {},
   "outputs": [],
   "source": [
    "fd= open(\"record6.json\",'w')\n",
    "fd.write(js)\n",
    "fd.close()"
   ]
  },
  {
   "cell_type": "code",
   "execution_count": null,
   "id": "2e9a3c31",
   "metadata": {},
   "outputs": [],
   "source": []
  },
  {
   "cell_type": "code",
   "execution_count": 137,
   "id": "16ad8d97",
   "metadata": {},
   "outputs": [],
   "source": [
    "fd=open(\"record6.json\",'r')\n",
    "re=fd.read()\n",
    "fd.close()\n",
    "\n",
    "record6 = json.loads(re)"
   ]
  },
  {
   "cell_type": "code",
   "execution_count": 138,
   "id": "52676b9c",
   "metadata": {},
   "outputs": [
    {
     "data": {
      "text/plain": [
       "'{\"1\": {\"name\": \"choco_cake\", \"pr\": 100, \"qn\": 99, \"discount\": 0.6, \"expiry_date\": \"2may\"},\\n\"2\": {\"name\": \"milk\", \"pr\": 80, \"qn\": 94, \"discount\": 0.2, \"expiry_date\": \"13jun\"},\\n\"3\": {\"name\": \"drink\", \"pr\": 90, \"qn\": 30, \"discount\": 2, \"expiry_date\": \"29jan\"}}'"
      ]
     },
     "execution_count": 138,
     "metadata": {},
     "output_type": "execute_result"
    }
   ],
   "source": [
    "record6"
   ]
  },
  {
   "cell_type": "code",
   "execution_count": 139,
   "id": "dd825819",
   "metadata": {},
   "outputs": [],
   "source": [
    "g= json.loads(record6)"
   ]
  },
  {
   "cell_type": "code",
   "execution_count": 140,
   "id": "156898c7",
   "metadata": {},
   "outputs": [
    {
     "data": {
      "text/plain": [
       "{'1': {'name': 'choco_cake',\n",
       "  'pr': 100,\n",
       "  'qn': 99,\n",
       "  'discount': 0.6,\n",
       "  'expiry_date': '2may'},\n",
       " '2': {'name': 'milk',\n",
       "  'pr': 80,\n",
       "  'qn': 94,\n",
       "  'discount': 0.2,\n",
       "  'expiry_date': '13jun'},\n",
       " '3': {'name': 'drink',\n",
       "  'pr': 90,\n",
       "  'qn': 30,\n",
       "  'discount': 2,\n",
       "  'expiry_date': '29jan'}}"
      ]
     },
     "execution_count": 140,
     "metadata": {},
     "output_type": "execute_result"
    }
   ],
   "source": [
    "g"
   ]
  },
  {
   "cell_type": "markdown",
   "id": "7368f711",
   "metadata": {},
   "source": [
    "Add NEw Inventry"
   ]
  },
  {
   "cell_type": "code",
   "execution_count": 142,
   "id": "a8b87ea8",
   "metadata": {},
   "outputs": [
    {
     "name": "stdout",
     "output_type": "stream",
     "text": [
      "enter the pro id5\n",
      "enter namebiscuit\n",
      "enter price100\n",
      "enter quantity2\n",
      "enter the discount0.3\n",
      "enter the expiry dateafter2 days\n"
     ]
    }
   ],
   "source": [
    "prod_id = input(\"enter the pro id\")\n",
    "name=input(str(\"enter name\"))\n",
    "pr =int(input(\"enter price\"))\n",
    "qn=int(input(\"enter quantity\"))\n",
    "discount=(input(\"enter the discount\"))\n",
    "expiry_date=input(str(\"enter the expiry date\"))"
   ]
  },
  {
   "cell_type": "code",
   "execution_count": 143,
   "id": "23532b78",
   "metadata": {},
   "outputs": [
    {
     "data": {
      "text/plain": [
       "{'5': {'name': 'biscuit',\n",
       "  'pr': 100,\n",
       "  'qn': 2,\n",
       "  'discount': '0.3',\n",
       "  'expiry_date': 'after2 days'}}"
      ]
     },
     "execution_count": 143,
     "metadata": {},
     "output_type": "execute_result"
    }
   ],
   "source": [
    "{prod_id:{'name':name, 'pr':pr, 'qn':qn, 'discount':discount, 'expiry_date':expiry_date}}"
   ]
  },
  {
   "cell_type": "code",
   "execution_count": 145,
   "id": "56d7acc9",
   "metadata": {},
   "outputs": [],
   "source": [
    "g[prod_id]={'name':name, 'pr':pr, 'qn':qn, 'discount':discount, 'expiry_date':expiry_date}"
   ]
  },
  {
   "cell_type": "code",
   "execution_count": 149,
   "id": "7eae2684",
   "metadata": {},
   "outputs": [
    {
     "data": {
      "text/plain": [
       "{'1': {'name': 'choco_cake',\n",
       "  'pr': 100,\n",
       "  'qn': 99,\n",
       "  'discount': 0.6,\n",
       "  'expiry_date': '2may'},\n",
       " '2': {'name': 'milk',\n",
       "  'pr': 80,\n",
       "  'qn': 94,\n",
       "  'discount': 0.2,\n",
       "  'expiry_date': '13jun'},\n",
       " '3': {'name': 'drink',\n",
       "  'pr': 90,\n",
       "  'qn': 30,\n",
       "  'discount': 2,\n",
       "  'expiry_date': '29jan'},\n",
       " '5': {'name': 'biscuit',\n",
       "  'pr': 100,\n",
       "  'qn': 2,\n",
       "  'discount': '0.3',\n",
       "  'expiry_date': 'after2 days'}}"
      ]
     },
     "execution_count": 149,
     "metadata": {},
     "output_type": "execute_result"
    }
   ],
   "source": [
    "g"
   ]
  },
  {
   "cell_type": "code",
   "execution_count": 150,
   "id": "4a55bebd",
   "metadata": {},
   "outputs": [],
   "source": [
    "del g['5']"
   ]
  },
  {
   "cell_type": "code",
   "execution_count": 153,
   "id": "ba903f92",
   "metadata": {},
   "outputs": [
    {
     "data": {
      "text/plain": [
       "{'1': {'name': 'choco_cake',\n",
       "  'pr': 100,\n",
       "  'qn': 99,\n",
       "  'discount': 0.6,\n",
       "  'expiry_date': '2may'},\n",
       " '2': {'name': 'milk',\n",
       "  'pr': 80,\n",
       "  'qn': 94,\n",
       "  'discount': 0.2,\n",
       "  'expiry_date': '13jun'},\n",
       " '3': {'name': 'drink',\n",
       "  'pr': 90,\n",
       "  'qn': 30,\n",
       "  'discount': 2,\n",
       "  'expiry_date': '29jan'}}"
      ]
     },
     "execution_count": 153,
     "metadata": {},
     "output_type": "execute_result"
    }
   ],
   "source": [
    "g"
   ]
  },
  {
   "cell_type": "code",
   "execution_count": 154,
   "id": "acf55479",
   "metadata": {},
   "outputs": [],
   "source": [
    "import time"
   ]
  },
  {
   "cell_type": "code",
   "execution_count": 155,
   "id": "a1acc443",
   "metadata": {},
   "outputs": [
    {
     "data": {
      "text/plain": [
       "'Sun Sep  5 21:31:23 2021'"
      ]
     },
     "execution_count": 155,
     "metadata": {},
     "output_type": "execute_result"
    }
   ],
   "source": [
    "time.ctime()"
   ]
  },
  {
   "cell_type": "code",
   "execution_count": null,
   "id": "d7b1d300",
   "metadata": {},
   "outputs": [],
   "source": []
  }
 ],
 "metadata": {
  "kernelspec": {
   "display_name": "Python 3",
   "language": "python",
   "name": "python3"
  },
  "language_info": {
   "codemirror_mode": {
    "name": "ipython",
    "version": 3
   },
   "file_extension": ".py",
   "mimetype": "text/x-python",
   "name": "python",
   "nbconvert_exporter": "python",
   "pygments_lexer": "ipython3",
   "version": "3.8.8"
  }
 },
 "nbformat": 4,
 "nbformat_minor": 5
}
