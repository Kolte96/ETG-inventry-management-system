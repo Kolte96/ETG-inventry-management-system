{
 "cells": [
  {
   "cell_type": "code",
   "execution_count": 1,
   "metadata": {},
   "outputs": [],
   "source": [
    "import pandas as pd\n"
   ]
  },
  {
   "cell_type": "code",
   "execution_count": 2,
   "metadata": {},
   "outputs": [],
   "source": [
    "import matplotlib.pyplot as plt"
   ]
  },
  {
   "cell_type": "code",
   "execution_count": 3,
   "metadata": {},
   "outputs": [],
   "source": [
    "df = pd.read_csv(\"summer.csv\")"
   ]
  },
  {
   "cell_type": "code",
   "execution_count": 4,
   "metadata": {},
   "outputs": [
    {
     "data": {
      "text/html": [
       "<div>\n",
       "<style scoped>\n",
       "    .dataframe tbody tr th:only-of-type {\n",
       "        vertical-align: middle;\n",
       "    }\n",
       "\n",
       "    .dataframe tbody tr th {\n",
       "        vertical-align: top;\n",
       "    }\n",
       "\n",
       "    .dataframe thead th {\n",
       "        text-align: right;\n",
       "    }\n",
       "</style>\n",
       "<table border=\"1\" class=\"dataframe\">\n",
       "  <thead>\n",
       "    <tr style=\"text-align: right;\">\n",
       "      <th></th>\n",
       "      <th>Year</th>\n",
       "      <th>City</th>\n",
       "      <th>Sport</th>\n",
       "      <th>Discipline</th>\n",
       "      <th>Athlete</th>\n",
       "      <th>Country</th>\n",
       "      <th>Gender</th>\n",
       "      <th>Event</th>\n",
       "      <th>Medal</th>\n",
       "    </tr>\n",
       "  </thead>\n",
       "  <tbody>\n",
       "    <tr>\n",
       "      <th>0</th>\n",
       "      <td>1896</td>\n",
       "      <td>Athens</td>\n",
       "      <td>Aquatics</td>\n",
       "      <td>Swimming</td>\n",
       "      <td>HAJOS, Alfred</td>\n",
       "      <td>HUN</td>\n",
       "      <td>Men</td>\n",
       "      <td>100M Freestyle</td>\n",
       "      <td>Gold</td>\n",
       "    </tr>\n",
       "    <tr>\n",
       "      <th>1</th>\n",
       "      <td>1896</td>\n",
       "      <td>Athens</td>\n",
       "      <td>Aquatics</td>\n",
       "      <td>Swimming</td>\n",
       "      <td>HERSCHMANN, Otto</td>\n",
       "      <td>AUT</td>\n",
       "      <td>Men</td>\n",
       "      <td>100M Freestyle</td>\n",
       "      <td>Silver</td>\n",
       "    </tr>\n",
       "    <tr>\n",
       "      <th>2</th>\n",
       "      <td>1896</td>\n",
       "      <td>Athens</td>\n",
       "      <td>Aquatics</td>\n",
       "      <td>Swimming</td>\n",
       "      <td>DRIVAS, Dimitrios</td>\n",
       "      <td>GRE</td>\n",
       "      <td>Men</td>\n",
       "      <td>100M Freestyle For Sailors</td>\n",
       "      <td>Bronze</td>\n",
       "    </tr>\n",
       "    <tr>\n",
       "      <th>3</th>\n",
       "      <td>1896</td>\n",
       "      <td>Athens</td>\n",
       "      <td>Aquatics</td>\n",
       "      <td>Swimming</td>\n",
       "      <td>MALOKINIS, Ioannis</td>\n",
       "      <td>GRE</td>\n",
       "      <td>Men</td>\n",
       "      <td>100M Freestyle For Sailors</td>\n",
       "      <td>Gold</td>\n",
       "    </tr>\n",
       "    <tr>\n",
       "      <th>4</th>\n",
       "      <td>1896</td>\n",
       "      <td>Athens</td>\n",
       "      <td>Aquatics</td>\n",
       "      <td>Swimming</td>\n",
       "      <td>CHASAPIS, Spiridon</td>\n",
       "      <td>GRE</td>\n",
       "      <td>Men</td>\n",
       "      <td>100M Freestyle For Sailors</td>\n",
       "      <td>Silver</td>\n",
       "    </tr>\n",
       "    <tr>\n",
       "      <th>...</th>\n",
       "      <td>...</td>\n",
       "      <td>...</td>\n",
       "      <td>...</td>\n",
       "      <td>...</td>\n",
       "      <td>...</td>\n",
       "      <td>...</td>\n",
       "      <td>...</td>\n",
       "      <td>...</td>\n",
       "      <td>...</td>\n",
       "    </tr>\n",
       "    <tr>\n",
       "      <th>31160</th>\n",
       "      <td>2012</td>\n",
       "      <td>London</td>\n",
       "      <td>Wrestling</td>\n",
       "      <td>Wrestling Freestyle</td>\n",
       "      <td>JANIKOWSKI, Damian</td>\n",
       "      <td>POL</td>\n",
       "      <td>Men</td>\n",
       "      <td>Wg 84 KG</td>\n",
       "      <td>Bronze</td>\n",
       "    </tr>\n",
       "    <tr>\n",
       "      <th>31161</th>\n",
       "      <td>2012</td>\n",
       "      <td>London</td>\n",
       "      <td>Wrestling</td>\n",
       "      <td>Wrestling Freestyle</td>\n",
       "      <td>REZAEI, Ghasem Gholamreza</td>\n",
       "      <td>IRI</td>\n",
       "      <td>Men</td>\n",
       "      <td>Wg 96 KG</td>\n",
       "      <td>Gold</td>\n",
       "    </tr>\n",
       "    <tr>\n",
       "      <th>31162</th>\n",
       "      <td>2012</td>\n",
       "      <td>London</td>\n",
       "      <td>Wrestling</td>\n",
       "      <td>Wrestling Freestyle</td>\n",
       "      <td>TOTROV, Rustam</td>\n",
       "      <td>RUS</td>\n",
       "      <td>Men</td>\n",
       "      <td>Wg 96 KG</td>\n",
       "      <td>Silver</td>\n",
       "    </tr>\n",
       "    <tr>\n",
       "      <th>31163</th>\n",
       "      <td>2012</td>\n",
       "      <td>London</td>\n",
       "      <td>Wrestling</td>\n",
       "      <td>Wrestling Freestyle</td>\n",
       "      <td>ALEKSANYAN, Artur</td>\n",
       "      <td>ARM</td>\n",
       "      <td>Men</td>\n",
       "      <td>Wg 96 KG</td>\n",
       "      <td>Bronze</td>\n",
       "    </tr>\n",
       "    <tr>\n",
       "      <th>31164</th>\n",
       "      <td>2012</td>\n",
       "      <td>London</td>\n",
       "      <td>Wrestling</td>\n",
       "      <td>Wrestling Freestyle</td>\n",
       "      <td>LIDBERG, Jimmy</td>\n",
       "      <td>SWE</td>\n",
       "      <td>Men</td>\n",
       "      <td>Wg 96 KG</td>\n",
       "      <td>Bronze</td>\n",
       "    </tr>\n",
       "  </tbody>\n",
       "</table>\n",
       "<p>31165 rows × 9 columns</p>\n",
       "</div>"
      ],
      "text/plain": [
       "       Year    City      Sport           Discipline  \\\n",
       "0      1896  Athens   Aquatics             Swimming   \n",
       "1      1896  Athens   Aquatics             Swimming   \n",
       "2      1896  Athens   Aquatics             Swimming   \n",
       "3      1896  Athens   Aquatics             Swimming   \n",
       "4      1896  Athens   Aquatics             Swimming   \n",
       "...     ...     ...        ...                  ...   \n",
       "31160  2012  London  Wrestling  Wrestling Freestyle   \n",
       "31161  2012  London  Wrestling  Wrestling Freestyle   \n",
       "31162  2012  London  Wrestling  Wrestling Freestyle   \n",
       "31163  2012  London  Wrestling  Wrestling Freestyle   \n",
       "31164  2012  London  Wrestling  Wrestling Freestyle   \n",
       "\n",
       "                         Athlete Country Gender                       Event  \\\n",
       "0                  HAJOS, Alfred     HUN    Men              100M Freestyle   \n",
       "1               HERSCHMANN, Otto     AUT    Men              100M Freestyle   \n",
       "2              DRIVAS, Dimitrios     GRE    Men  100M Freestyle For Sailors   \n",
       "3             MALOKINIS, Ioannis     GRE    Men  100M Freestyle For Sailors   \n",
       "4             CHASAPIS, Spiridon     GRE    Men  100M Freestyle For Sailors   \n",
       "...                          ...     ...    ...                         ...   \n",
       "31160         JANIKOWSKI, Damian     POL    Men                    Wg 84 KG   \n",
       "31161  REZAEI, Ghasem Gholamreza     IRI    Men                    Wg 96 KG   \n",
       "31162             TOTROV, Rustam     RUS    Men                    Wg 96 KG   \n",
       "31163          ALEKSANYAN, Artur     ARM    Men                    Wg 96 KG   \n",
       "31164             LIDBERG, Jimmy     SWE    Men                    Wg 96 KG   \n",
       "\n",
       "        Medal  \n",
       "0        Gold  \n",
       "1      Silver  \n",
       "2      Bronze  \n",
       "3        Gold  \n",
       "4      Silver  \n",
       "...       ...  \n",
       "31160  Bronze  \n",
       "31161    Gold  \n",
       "31162  Silver  \n",
       "31163  Bronze  \n",
       "31164  Bronze  \n",
       "\n",
       "[31165 rows x 9 columns]"
      ]
     },
     "execution_count": 4,
     "metadata": {},
     "output_type": "execute_result"
    }
   ],
   "source": [
    "df"
   ]
  },
  {
   "cell_type": "code",
   "execution_count": null,
   "metadata": {},
   "outputs": [],
   "source": []
  },
  {
   "cell_type": "markdown",
   "metadata": {},
   "source": [
    "Que1.In how many cities Summer Olympic is Held so far"
   ]
  },
  {
   "cell_type": "code",
   "execution_count": 5,
   "metadata": {},
   "outputs": [
    {
     "data": {
      "text/plain": [
       "<AxesSubplot:xlabel='City'>"
      ]
     },
     "execution_count": 5,
     "metadata": {},
     "output_type": "execute_result"
    },
    {
     "data": {
      "image/png": "[encoded data removed]",
      "text/plain": [
       "<Figure size 432x288 with 1 Axes>"
      ]
     },
     "metadata": {
      "needs_background": "light"
     },
     "output_type": "display_data"
    }
   ],
   "source": [
    "data =[]\n",
    "for Sport in df['City'].unique():\n",
    "    data.append([Sport, len(df[df['City'] == Sport])])\n",
    "\n",
    "data = pd.DataFrame(data,columns =['City','Sport'])\n",
    "data= data.sort_values(by = 'Sport', ascending= False)\n",
    "data.plot(x='City', y= 'Sport',kind='bar')"
   ]
  },
  {
   "cell_type": "code",
   "execution_count": null,
   "metadata": {},
   "outputs": [],
   "source": []
  },
  {
   "cell_type": "markdown",
   "metadata": {},
   "source": [
    "Que2.Which Sport Having most number of Gold medal so far"
   ]
  },
  {
   "cell_type": "code",
   "execution_count": 6,
   "metadata": {},
   "outputs": [
    {
     "name": "stderr",
     "output_type": "stream",
     "text": [
      "<ipython-input-6-b4fa1d54d568>:3: UserWarning: Boolean Series key will be reindexed to match DataFrame index.\n",
      "  d= df[df['Sport'] == Sport][df['Medal']=='Gold']\n"
     ]
    }
   ],
   "source": [
    "data=[]\n",
    "for Sport in df['Sport'].unique():\n",
    "    d= df[df['Sport'] == Sport][df['Medal']=='Gold']\n",
    "    data.append([Sport,len(d)])"
   ]
  },
  {
   "cell_type": "code",
   "execution_count": 7,
   "metadata": {},
   "outputs": [
    {
     "data": {
      "text/plain": [
       "<AxesSubplot:xlabel='Sport'>"
      ]
     },
     "execution_count": 7,
     "metadata": {},
     "output_type": "execute_result"
    },
    {
     "data": {
      "image/png": "[encoded data removed]",
      "text/plain": [
       "<Figure size 432x288 with 1 Axes>"
      ]
     },
     "metadata": {
      "needs_background": "light"
     },
     "output_type": "display_data"
    }
   ],
   "source": [
    "data = pd.DataFrame(data,columns =['Sport','Medal'])\n",
    "data= data.sort_values(by = 'Medal', ascending= False).head()\n",
    "data.plot(x='Sport', y= 'Medal',kind='bar')"
   ]
  },
  {
   "cell_type": "code",
   "execution_count": null,
   "metadata": {},
   "outputs": [],
   "source": []
  },
  {
   "cell_type": "markdown",
   "metadata": {},
   "source": [
    "Que3.Which Sport having most number of medals so far?"
   ]
  },
  {
   "cell_type": "code",
   "execution_count": 8,
   "metadata": {},
   "outputs": [
    {
     "data": {
      "text/plain": [
       "<AxesSubplot:xlabel='Sport'>"
      ]
     },
     "execution_count": 8,
     "metadata": {},
     "output_type": "execute_result"
    },
    {
     "data": {
      "image/png": "[encoded data removed]",
      "text/plain": [
       "<Figure size 720x360 with 1 Axes>"
      ]
     },
     "metadata": {
      "needs_background": "light"
     },
     "output_type": "display_data"
    }
   ],
   "source": [
    "d3=[]\n",
    "for Sport in df['Sport'].unique():\n",
    "    d3.append([Sport, len(df[df['Sport'] == Sport])])\n",
    "\n",
    "d3 = pd.DataFrame(d3,columns =['Sport','Medal'])\n",
    "d3= d3.sort_values(by = 'Medal',ascending= False).head()\n",
    "d3.plot(x='Sport', y= 'Medal',kind='bar', figsize=(10,5))"
   ]
  },
  {
   "cell_type": "code",
   "execution_count": null,
   "metadata": {},
   "outputs": [],
   "source": []
  },
  {
   "cell_type": "markdown",
   "metadata": {},
   "source": [
    "Que4.Which Player has won most number of Medals"
   ]
  },
  {
   "cell_type": "code",
   "execution_count": 9,
   "metadata": {},
   "outputs": [],
   "source": [
    "d=[]\n",
    "for ap in df['Athlete'].unique():\n",
    "    d.append([ap,len(df[df['Athlete']==ap])])\n",
    "    "
   ]
  },
  {
   "cell_type": "code",
   "execution_count": 10,
   "metadata": {},
   "outputs": [
    {
     "data": {
      "text/plain": [
       "<AxesSubplot:xlabel='Player'>"
      ]
     },
     "execution_count": 10,
     "metadata": {},
     "output_type": "execute_result"
    },
    {
     "data": {
      "image/png": "[encoded data removed]",
      "text/plain": [
       "<Figure size 432x288 with 1 Axes>"
      ]
     },
     "metadata": {
      "needs_background": "light"
     },
     "output_type": "display_data"
    }
   ],
   "source": [
    "d=pd.DataFrame(d,columns=['Player','Total Medals'])\n",
    "d=d.sort_values(by ='Total Medals',ascending = False).head()\n",
    "d.plot(x='Player' ,y ='Total Medals',kind='bar')"
   ]
  },
  {
   "cell_type": "code",
   "execution_count": null,
   "metadata": {},
   "outputs": [],
   "source": []
  },
  {
   "cell_type": "markdown",
   "metadata": {},
   "source": [
    "Que5.Which player has won most number Gold medals of medals"
   ]
  },
  {
   "cell_type": "code",
   "execution_count": 11,
   "metadata": {},
   "outputs": [],
   "source": [
    "G=df[df['Medal']=='Gold']\n",
    "gold=[]\n",
    "for i in G['Athlete'].unique():\n",
    "    gold.append([i,len(G[G['Athlete']==i])])"
   ]
  },
  {
   "cell_type": "code",
   "execution_count": 12,
   "metadata": {},
   "outputs": [
    {
     "data": {
      "text/plain": [
       "<AxesSubplot:xlabel='Player'>"
      ]
     },
     "execution_count": 12,
     "metadata": {},
     "output_type": "execute_result"
    },
    {
     "data": {
      "image/png": "[encoded data removed]",
      "text/plain": [
       "<Figure size 432x288 with 1 Axes>"
      ]
     },
     "metadata": {
      "needs_background": "light"
     },
     "output_type": "display_data"
    }
   ],
   "source": [
    "gold=pd.DataFrame(gold,columns=['Player','Gold Medals'])\n",
    "gold=gold.sort_values(by='Gold Medals',ascending =False).head()\n",
    "gold.plot(x='Player',y='Gold Medals',kind='bar')"
   ]
  },
  {
   "cell_type": "code",
   "execution_count": null,
   "metadata": {},
   "outputs": [],
   "source": []
  },
  {
   "cell_type": "markdown",
   "metadata": {},
   "source": [
    "Que6.Which Year india won first gold medal in summer olympic "
   ]
  },
  {
   "cell_type": "code",
   "execution_count": 13,
   "metadata": {},
   "outputs": [
    {
     "name": "stderr",
     "output_type": "stream",
     "text": [
      "<ipython-input-13-d56d5174ecce>:3: UserWarning: Boolean Series key will be reindexed to match DataFrame index.\n",
      "  d= df[df['Year'] == Year][df['Medal']=='Gold'][df['Country']=='IND']\n",
      "<ipython-input-13-d56d5174ecce>:3: UserWarning: Boolean Series key will be reindexed to match DataFrame index.\n",
      "  d= df[df['Year'] == Year][df['Medal']=='Gold'][df['Country']=='IND']\n",
      "<ipython-input-13-d56d5174ecce>:3: UserWarning: Boolean Series key will be reindexed to match DataFrame index.\n",
      "  d= df[df['Year'] == Year][df['Medal']=='Gold'][df['Country']=='IND']\n",
      "<ipython-input-13-d56d5174ecce>:3: UserWarning: Boolean Series key will be reindexed to match DataFrame index.\n",
      "  d= df[df['Year'] == Year][df['Medal']=='Gold'][df['Country']=='IND']\n",
      "<ipython-input-13-d56d5174ecce>:3: UserWarning: Boolean Series key will be reindexed to match DataFrame index.\n",
      "  d= df[df['Year'] == Year][df['Medal']=='Gold'][df['Country']=='IND']\n",
      "<ipython-input-13-d56d5174ecce>:3: UserWarning: Boolean Series key will be reindexed to match DataFrame index.\n",
      "  d= df[df['Year'] == Year][df['Medal']=='Gold'][df['Country']=='IND']\n",
      "<ipython-input-13-d56d5174ecce>:3: UserWarning: Boolean Series key will be reindexed to match DataFrame index.\n",
      "  d= df[df['Year'] == Year][df['Medal']=='Gold'][df['Country']=='IND']\n",
      "<ipython-input-13-d56d5174ecce>:3: UserWarning: Boolean Series key will be reindexed to match DataFrame index.\n",
      "  d= df[df['Year'] == Year][df['Medal']=='Gold'][df['Country']=='IND']\n",
      "<ipython-input-13-d56d5174ecce>:3: UserWarning: Boolean Series key will be reindexed to match DataFrame index.\n",
      "  d= df[df['Year'] == Year][df['Medal']=='Gold'][df['Country']=='IND']\n",
      "<ipython-input-13-d56d5174ecce>:3: UserWarning: Boolean Series key will be reindexed to match DataFrame index.\n",
      "  d= df[df['Year'] == Year][df['Medal']=='Gold'][df['Country']=='IND']\n",
      "<ipython-input-13-d56d5174ecce>:3: UserWarning: Boolean Series key will be reindexed to match DataFrame index.\n",
      "  d= df[df['Year'] == Year][df['Medal']=='Gold'][df['Country']=='IND']\n",
      "<ipython-input-13-d56d5174ecce>:3: UserWarning: Boolean Series key will be reindexed to match DataFrame index.\n",
      "  d= df[df['Year'] == Year][df['Medal']=='Gold'][df['Country']=='IND']\n",
      "<ipython-input-13-d56d5174ecce>:3: UserWarning: Boolean Series key will be reindexed to match DataFrame index.\n",
      "  d= df[df['Year'] == Year][df['Medal']=='Gold'][df['Country']=='IND']\n",
      "<ipython-input-13-d56d5174ecce>:3: UserWarning: Boolean Series key will be reindexed to match DataFrame index.\n",
      "  d= df[df['Year'] == Year][df['Medal']=='Gold'][df['Country']=='IND']\n",
      "<ipython-input-13-d56d5174ecce>:3: UserWarning: Boolean Series key will be reindexed to match DataFrame index.\n",
      "  d= df[df['Year'] == Year][df['Medal']=='Gold'][df['Country']=='IND']\n",
      "<ipython-input-13-d56d5174ecce>:3: UserWarning: Boolean Series key will be reindexed to match DataFrame index.\n",
      "  d= df[df['Year'] == Year][df['Medal']=='Gold'][df['Country']=='IND']\n",
      "<ipython-input-13-d56d5174ecce>:3: UserWarning: Boolean Series key will be reindexed to match DataFrame index.\n",
      "  d= df[df['Year'] == Year][df['Medal']=='Gold'][df['Country']=='IND']\n",
      "<ipython-input-13-d56d5174ecce>:3: UserWarning: Boolean Series key will be reindexed to match DataFrame index.\n",
      "  d= df[df['Year'] == Year][df['Medal']=='Gold'][df['Country']=='IND']\n",
      "<ipython-input-13-d56d5174ecce>:3: UserWarning: Boolean Series key will be reindexed to match DataFrame index.\n",
      "  d= df[df['Year'] == Year][df['Medal']=='Gold'][df['Country']=='IND']\n",
      "<ipython-input-13-d56d5174ecce>:3: UserWarning: Boolean Series key will be reindexed to match DataFrame index.\n",
      "  d= df[df['Year'] == Year][df['Medal']=='Gold'][df['Country']=='IND']\n",
      "<ipython-input-13-d56d5174ecce>:3: UserWarning: Boolean Series key will be reindexed to match DataFrame index.\n",
      "  d= df[df['Year'] == Year][df['Medal']=='Gold'][df['Country']=='IND']\n",
      "<ipython-input-13-d56d5174ecce>:3: UserWarning: Boolean Series key will be reindexed to match DataFrame index.\n",
      "  d= df[df['Year'] == Year][df['Medal']=='Gold'][df['Country']=='IND']\n",
      "<ipython-input-13-d56d5174ecce>:3: UserWarning: Boolean Series key will be reindexed to match DataFrame index.\n",
      "  d= df[df['Year'] == Year][df['Medal']=='Gold'][df['Country']=='IND']\n",
      "<ipython-input-13-d56d5174ecce>:3: UserWarning: Boolean Series key will be reindexed to match DataFrame index.\n",
      "  d= df[df['Year'] == Year][df['Medal']=='Gold'][df['Country']=='IND']\n",
      "<ipython-input-13-d56d5174ecce>:3: UserWarning: Boolean Series key will be reindexed to match DataFrame index.\n",
      "  d= df[df['Year'] == Year][df['Medal']=='Gold'][df['Country']=='IND']\n",
      "<ipython-input-13-d56d5174ecce>:3: UserWarning: Boolean Series key will be reindexed to match DataFrame index.\n",
      "  d= df[df['Year'] == Year][df['Medal']=='Gold'][df['Country']=='IND']\n",
      "<ipython-input-13-d56d5174ecce>:3: UserWarning: Boolean Series key will be reindexed to match DataFrame index.\n",
      "  d= df[df['Year'] == Year][df['Medal']=='Gold'][df['Country']=='IND']\n"
     ]
    }
   ],
   "source": [
    "data=[]\n",
    "for Year in df['Year'].unique():\n",
    "    d= df[df['Year'] == Year][df['Medal']=='Gold'][df['Country']=='IND']\n",
    "    data.append([len(d),Year])"
   ]
  },
  {
   "cell_type": "code",
   "execution_count": 14,
   "metadata": {},
   "outputs": [
    {
     "data": {
      "text/plain": [
       "<AxesSubplot:xlabel='Country'>"
      ]
     },
     "execution_count": 14,
     "metadata": {},
     "output_type": "execute_result"
    },
    {
     "data": {
      "image/png": "[encoded data removed]",
      "text/plain": [
       "<Figure size 720x360 with 1 Axes>"
      ]
     },
     "metadata": {
      "needs_background": "light"
     },
     "output_type": "display_data"
    }
   ],
   "source": [
    "pd.DataFrame(data,columns=['Country','Year']).head().plot(x='Country', y='Year',kind='bar',figsize=(10,5))"
   ]
  },
  {
   "cell_type": "code",
   "execution_count": 15,
   "metadata": {},
   "outputs": [
    {
     "data": {
      "text/plain": [
       "[[0, 1896],\n",
       " [0, 1900],\n",
       " [0, 1904],\n",
       " [0, 1908],\n",
       " [0, 1912],\n",
       " [0, 1920],\n",
       " [0, 1924],\n",
       " [15, 1928],\n",
       " [11, 1932],\n",
       " [19, 1936],\n",
       " [20, 1948],\n",
       " [14, 1952],\n",
       " [17, 1956],\n",
       " [0, 1960],\n",
       " [15, 1964],\n",
       " [0, 1968],\n",
       " [0, 1972],\n",
       " [0, 1976],\n",
       " [16, 1980],\n",
       " [0, 1984],\n",
       " [0, 1988],\n",
       " [0, 1992],\n",
       " [0, 1996],\n",
       " [0, 2000],\n",
       " [0, 2004],\n",
       " [1, 2008],\n",
       " [0, 2012]]"
      ]
     },
     "execution_count": 15,
     "metadata": {},
     "output_type": "execute_result"
    }
   ],
   "source": [
    "data"
   ]
  },
  {
   "cell_type": "code",
   "execution_count": 16,
   "metadata": {},
   "outputs": [
    {
     "data": {
      "text/plain": [
       "Year                          1928\n",
       "City                     Amsterdam\n",
       "Sport                       Hockey\n",
       "Discipline                  Hockey\n",
       "Athlete       ALLEN, Richard James\n",
       "Country                        IND\n",
       "Gender                         Men\n",
       "Event                       Hockey\n",
       "Medal                         Gold\n",
       "Name: 5512, dtype: object"
      ]
     },
     "execution_count": 16,
     "metadata": {},
     "output_type": "execute_result"
    }
   ],
   "source": [
    "m=df[df['Medal']=='Gold']\n",
    "c=m.loc[m['Country']=='IND']\n",
    "c.iloc[0]"
   ]
  },
  {
   "cell_type": "code",
   "execution_count": null,
   "metadata": {},
   "outputs": [],
   "source": []
  },
  {
   "cell_type": "markdown",
   "metadata": {},
   "source": [
    "Que7.Which event is most popular in terms on number of players? (Top 5)"
   ]
  },
  {
   "cell_type": "code",
   "execution_count": 17,
   "metadata": {},
   "outputs": [
    {
     "data": {
      "text/plain": [
       "<AxesSubplot:xlabel='Event'>"
      ]
     },
     "execution_count": 17,
     "metadata": {},
     "output_type": "execute_result"
    },
    {
     "data": {
      "image/png": "[encoded data removed]",
      "text/plain": [
       "<Figure size 720x360 with 1 Axes>"
      ]
     },
     "metadata": {
      "needs_background": "light"
     },
     "output_type": "display_data"
    }
   ],
   "source": [
    "data8 =[]\n",
    "for h in df['Event'].unique():\n",
    "     data8.append([h ,len(df[df['Event'] == h])])\n",
    "   \n",
    "  \n",
    "data8 = pd.DataFrame(data8, columns = ['Event','Players'])\n",
    "data8=data8.sort_values(by = 'Players', ascending = False).head()\n",
    "data8.plot(x ='Event',y='Players',kind ='bar',figsize=(10,5))"
   ]
  },
  {
   "cell_type": "code",
   "execution_count": null,
   "metadata": {},
   "outputs": [],
   "source": []
  },
  {
   "cell_type": "markdown",
   "metadata": {},
   "source": [
    "Que8.Which sport is having most female Gold Medalist"
   ]
  },
  {
   "cell_type": "code",
   "execution_count": 19,
   "metadata": {},
   "outputs": [],
   "source": [
    "g=df[df['Medal']=='Gold']\n",
    "w=g[g['Gender']=='Women']\n",
    "gold1=[]\n",
    "for i in w['Sport'].unique():\n",
    "    gold1.append([i,len(w[w['Sport']==i])])"
   ]
  },
  {
   "cell_type": "code",
   "execution_count": 20,
   "metadata": {},
   "outputs": [
    {
     "data": {
      "text/plain": [
       "<AxesSubplot:xlabel='Sport'>"
      ]
     },
     "execution_count": 20,
     "metadata": {},
     "output_type": "execute_result"
    },
    {
     "data": {
      "image/png": "[encoded data removed]",
      "text/plain": [
       "<Figure size 720x360 with 1 Axes>"
      ]
     },
     "metadata": {
      "needs_background": "light"
     },
     "output_type": "display_data"
    }
   ],
   "source": [
    "gold1=pd.DataFrame(gold1,columns= ['Sport','GoldMedal'])\n",
    "gold1=gold1.sort_values(by='GoldMedal',ascending=False).head()\n",
    "gold1.plot(x='Sport',y='GoldMedal',kind='bar',figsize=(10,5))"
   ]
  },
  {
   "cell_type": "code",
   "execution_count": null,
   "metadata": {},
   "outputs": [],
   "source": []
  },
  {
   "cell_type": "markdown",
   "metadata": {},
   "source": [
    "# Summer Olympics Data Analysis Assignment"
   ]
  },
  {
   "cell_type": "markdown",
   "metadata": {},
   "source": [
    "### 1. In how many cities Summer Olympics is held so far?"
   ]
  },
  {
   "cell_type": "code",
   "execution_count": 61,
   "metadata": {},
   "outputs": [
    {
     "data": {
      "text/plain": [
       "22"
      ]
     },
     "execution_count": 61,
     "metadata": {},
     "output_type": "execute_result"
    }
   ],
   "source": [
    "22"
   ]
  },
  {
   "cell_type": "markdown",
   "metadata": {},
   "source": [
    "### 2. Which sport is having most number of Gold Medals so far? (Top 5)"
   ]
  },
  {
   "cell_type": "code",
   "execution_count": null,
   "metadata": {},
   "outputs": [],
   "source": [
    "Aquatics"
   ]
  },
  {
   "cell_type": "markdown",
   "metadata": {},
   "source": [
    "### 3. Which sport is having most number of medals so far? (Top 5)"
   ]
  },
  {
   "cell_type": "code",
   "execution_count": null,
   "metadata": {},
   "outputs": [],
   "source": [
    "Aquatics"
   ]
  },
  {
   "cell_type": "markdown",
   "metadata": {},
   "source": [
    "### 4. Which player has won most number of medals? (Top 5)"
   ]
  },
  {
   "cell_type": "code",
   "execution_count": null,
   "metadata": {},
   "outputs": [],
   "source": [
    "PHELPD, Michale"
   ]
  },
  {
   "cell_type": "markdown",
   "metadata": {},
   "source": [
    "### 5. Which player has won most number Gold Medals of medals? (Top 5)"
   ]
  },
  {
   "cell_type": "code",
   "execution_count": null,
   "metadata": {},
   "outputs": [],
   "source": [
    "PHELPD, Michale"
   ]
  },
  {
   "cell_type": "markdown",
   "metadata": {},
   "source": [
    "### 6. In which year India won first Gold Medal in Summer Olympics?"
   ]
  },
  {
   "cell_type": "code",
   "execution_count": null,
   "metadata": {},
   "outputs": [],
   "source": [
    "1928"
   ]
  },
  {
   "cell_type": "markdown",
   "metadata": {},
   "source": [
    "### 7. Which event is most popular in terms on number of players? (Top 5)"
   ]
  },
  {
   "cell_type": "code",
   "execution_count": null,
   "metadata": {},
   "outputs": [],
   "source": [
    "Football"
   ]
  },
  {
   "cell_type": "markdown",
   "metadata": {},
   "source": [
    "### 8. Which sport is having most female Gold Medalists? (Top 5)"
   ]
  },
  {
   "cell_type": "code",
   "execution_count": null,
   "metadata": {},
   "outputs": [],
   "source": [
    "Aquatics"
   ]
  }
 ],
 "metadata": {
  "kernelspec": {
   "display_name": "Python 3",
   "language": "python",
   "name": "python3"
  },
  "language_info": {
   "codemirror_mode": {
    "name": "ipython",
    "version": 3
   },
   "file_extension": ".py",
   "mimetype": "text/x-python",
   "name": "python",
   "nbconvert_exporter": "python",
   "pygments_lexer": "ipython3",
   "version": "3.8.8"
  }
 },
 "nbformat": 4,
 "nbformat_minor": 2
}
