{
 "cells": [
  {
   "cell_type": "code",
   "execution_count": 22,
   "id": "8c3b5de0",
   "metadata": {},
   "outputs": [],
   "source": [
    "fd= open(\"zp.txt\",'r')\n",
    "re=fd.read()\n",
    "fd.close()"
   ]
  },
  {
   "cell_type": "code",
   "execution_count": 23,
   "id": "efe2e384",
   "metadata": {},
   "outputs": [
    {
     "data": {
      "text/plain": [
       "'{\"1\":{\"name\":\"choco_cake\",\"pr\":100,\"qn\":99,\"discount\":0.6,\"expiry_date\":\"2may\"},\\n\"2\":{\"name\":\"milk\",\"pr\":80,\"qn\":94,\"discount\":0.2,\"expiry_date\":\"2days\"},\\n\"3\":{\"name\":\"drink\",\"pr\":90,\"qn\":30,\"discount\":2,\"expiry_date\":\"29jan\"},\\n\"4\":{\"name\":\"coffee\",\"pr\":30,\"qn\":20,\"discount\":0.1,\"expiry_date\":\"that_day\"},\\n\"5\":{\"name\":\"roti\",\"pr\":15,\"qn\":50,\"discount\":0.5,\"expiry_date\":\"before24_hours\"},\\n\"6\":{\"name\":\"pen\",\"pr\":10,\"qn\":90,\"discount\":0.9,\"expiry_date\":\"before1year\"},\\n\"7\":{\"name\":\"biscuit\",\"pr\":10,\"qn\":30,\"discount\":0.3,\"expiry_date\":\"6moths_from_manifacture\"},\\n\"8\":{\"name\":\"soap\",\"pr\":40,\"qn\":60,\"discount\":5,\"expiry_date\":\"1year\"},\\n\"9\":{\"name\":\"colgate\",\"pr\":80,\"qn\":70,\"discount\":0.7,\"expiry_date\":\"5jun2021\"},\\n\"10\":{\"name\":\"facewash\",\"pr\":45,\"qn\":60,\"discount\":3,\"expiry_date\":\"after6_months\"},\\n\"11\":{\"name\":\"mobile\",\"pr\":60000,\"qn\":30,\"discount\":10,\"expiry_date\":\"1year_warrenty\"},\\n\"12\":{\"name\":\"bulb\",\"pr\":90,\"qn\":45,\"discount\":0.6,\"expiry_date\":\"after1_year\"},\\n\"13\":{\"name\":\"watch\",\"pr\":580,\"qn\":98,\"discount\":13,\"expiry_date\":\"1Year_warrenty\"},\\n\"14\":{\"name\":\"Khurchi\",\"pr\":600,\"qn\":43,\"discount\":0.9,\"expiry_date\":\"1year_warrenty\"},\\n\"15\":{\"name\":\"bat\",\"pr\":6000,\"qn\":8,\"discount\":9,\"expiry_date\":\"1year_warrenty\"},\\n\"16\":{\"name\":\"helmet\",\"pr\":900,\"qn\":300,\"discount\":3.5,\"expiry_date\":\"3yearWarrenty\"},\\n\"17\":{\"name\":\"pizza\",\"pr\":99,\"qn\":70,\"discount\":9,\"expiry_date\":\"after24_hours\"},\\n\"18\":{\"name\":\"burger\",\"pr\":129,\"qn\":90,\"discount\":8,\"expiry_date\":\"after24_hours\"},\\n\"19\":{\"name\":\"cement\",\"pr\":650,\"qn\":900,\"discount\":5,\"expiry_date\":\"aftr6_months\"},\\n\"20\":{\"name\":\"Battery\",\"pr\":1000,\"qn\":30,\"discount\":22,\"expiry_date\":\"1year_warrenty\"},\\n\"21\":{\"name\":\"paint\",\"pr\":20000,\"qn\":66,\"discount\":14,\"expiry_date\":\"after2year\"},\\n\"22\":{\"name\":\"Shoes\",\"pr\":990,\"qn\":34,\"discount\":23,\"expiry_date\":\"1year_warrenty\"}, \\n\"23\":{\"name\":\"tshirt\",\"pr\":790,\"qn\":340,\"discount\":1,\"expiry_date\":\"2year_garenty\"},\\n\"24\":{\"name\":\"pant\",\"pr\":690,\"qn\":630,\"discount\":3,\"expiry_date\":\"after6_yeaer\"},\\n\"25\":{\"name\":\"icecream\",\"pr\":50,\"qn\":730,\"discount\":2,\"expiry_date\":\"after2_months\"},\\n\"26\":{\"name\":\"farsan\",\"pr\":900,\"qn\":80,\"discount\":7,\"expiry_date\":\"6mothsafter_packaging\"},\\n\"27\":{\"name\":\"nirma\",\"pr\":390,\"qn\":90,\"discount\":8,\"expiry_date\":\"8may2022\"},\\n\"28\":{\"name\":\"Rasna\",\"pr\":190,\"qn\":120,\"discount\":3,\"expiry_date\":\"after_6month\"},\\n\"29\":{\"name\":\"mango_juice\",\"pr\":70,\"qn\":50,\"discount\":0.1, \"expiry_date\":\"after24_hours\"},\\n\"30\":{\"name\":\"Cadbury\",\"pr\":180,\"qn\":50,\"discount\":0.2,\"expiry_date\":\"after3_month\"}}'"
      ]
     },
     "execution_count": 23,
     "metadata": {},
     "output_type": "execute_result"
    }
   ],
   "source": [
    "re"
   ]
  },
  {
   "cell_type": "code",
   "execution_count": 24,
   "id": "5106c386",
   "metadata": {},
   "outputs": [],
   "source": [
    "import json\n"
   ]
  },
  {
   "cell_type": "code",
   "execution_count": 25,
   "id": "00b29671",
   "metadata": {},
   "outputs": [],
   "source": [
    "js=json.dumps(re)"
   ]
  },
  {
   "cell_type": "code",
   "execution_count": null,
   "id": "cf2342dc",
   "metadata": {},
   "outputs": [],
   "source": []
  },
  {
   "cell_type": "code",
   "execution_count": 26,
   "id": "3e413b5e",
   "metadata": {},
   "outputs": [],
   "source": [
    "fd= open(\"zp.json\",'w')\n",
    "fd.write(js)\n",
    "fd.close()"
   ]
  },
  {
   "cell_type": "code",
   "execution_count": 27,
   "id": "16ad8d97",
   "metadata": {},
   "outputs": [],
   "source": [
    "fd=open(\"zp.json\",'r')\n",
    "re=fd.read()\n",
    "fd.close()\n"
   ]
  },
  {
   "cell_type": "code",
   "execution_count": 29,
   "id": "52676b9c",
   "metadata": {},
   "outputs": [],
   "source": [
    "op = json.loads(re)"
   ]
  },
  {
   "cell_type": "code",
   "execution_count": 36,
   "id": "3f6293a7",
   "metadata": {},
   "outputs": [],
   "source": [
    "z=json.loads(op)"
   ]
  },
  {
   "cell_type": "code",
   "execution_count": 34,
   "id": "16f9c756",
   "metadata": {},
   "outputs": [
    {
     "name": "stdout",
     "output_type": "stream",
     "text": [
      "Product Id:31\n",
      "Product name:oil\n",
      "Product price:5000\n",
      "quantity:4\n",
      "Discount:6\n",
      "Expiry Date:after_1_year\n"
     ]
    }
   ],
   "source": [
    "prod_id=int(input(\"Product Id:\"))\n",
    "name=input(\"Product name:\")\n",
    "pr=input(\"Product price:\") \n",
    "qn=input(\"quantity:\")\n",
    "discount=input(\"Discount:\")\n",
    "expiry_date=input(\"Expiry Date:\")"
   ]
  },
  {
   "cell_type": "code",
   "execution_count": 37,
   "id": "da8538ec",
   "metadata": {},
   "outputs": [],
   "source": [
    "z[prod_id]={'name':name,'pr':pr,'qn':qn,'discount':discount,'expiry_date':expiry_date}"
   ]
  },
  {
   "cell_type": "code",
   "execution_count": 38,
   "id": "a896ce13",
   "metadata": {},
   "outputs": [
    {
     "data": {
      "text/plain": [
       "{'1': {'name': 'choco_cake',\n",
       "  'pr': 100,\n",
       "  'qn': 99,\n",
       "  'discount': 0.6,\n",
       "  'expiry_date': '2may'},\n",
       " '2': {'name': 'milk',\n",
       "  'pr': 80,\n",
       "  'qn': 94,\n",
       "  'discount': 0.2,\n",
       "  'expiry_date': '2days'},\n",
       " '3': {'name': 'drink',\n",
       "  'pr': 90,\n",
       "  'qn': 30,\n",
       "  'discount': 2,\n",
       "  'expiry_date': '29jan'},\n",
       " '4': {'name': 'coffee',\n",
       "  'pr': 30,\n",
       "  'qn': 20,\n",
       "  'discount': 0.1,\n",
       "  'expiry_date': 'that_day'},\n",
       " '5': {'name': 'roti',\n",
       "  'pr': 15,\n",
       "  'qn': 50,\n",
       "  'discount': 0.5,\n",
       "  'expiry_date': 'before24_hours'},\n",
       " '6': {'name': 'pen',\n",
       "  'pr': 10,\n",
       "  'qn': 90,\n",
       "  'discount': 0.9,\n",
       "  'expiry_date': 'before1year'},\n",
       " '7': {'name': 'biscuit',\n",
       "  'pr': 10,\n",
       "  'qn': 30,\n",
       "  'discount': 0.3,\n",
       "  'expiry_date': '6moths_from_manifacture'},\n",
       " '8': {'name': 'soap',\n",
       "  'pr': 40,\n",
       "  'qn': 60,\n",
       "  'discount': 5,\n",
       "  'expiry_date': '1year'},\n",
       " '9': {'name': 'colgate',\n",
       "  'pr': 80,\n",
       "  'qn': 70,\n",
       "  'discount': 0.7,\n",
       "  'expiry_date': '5jun2021'},\n",
       " '10': {'name': 'facewash',\n",
       "  'pr': 45,\n",
       "  'qn': 60,\n",
       "  'discount': 3,\n",
       "  'expiry_date': 'after6_months'},\n",
       " '11': {'name': 'mobile',\n",
       "  'pr': 60000,\n",
       "  'qn': 30,\n",
       "  'discount': 10,\n",
       "  'expiry_date': '1year_warrenty'},\n",
       " '12': {'name': 'bulb',\n",
       "  'pr': 90,\n",
       "  'qn': 45,\n",
       "  'discount': 0.6,\n",
       "  'expiry_date': 'after1_year'},\n",
       " '13': {'name': 'watch',\n",
       "  'pr': 580,\n",
       "  'qn': 98,\n",
       "  'discount': 13,\n",
       "  'expiry_date': '1Year_warrenty'},\n",
       " '14': {'name': 'Khurchi',\n",
       "  'pr': 600,\n",
       "  'qn': 43,\n",
       "  'discount': 0.9,\n",
       "  'expiry_date': '1year_warrenty'},\n",
       " '15': {'name': 'bat',\n",
       "  'pr': 6000,\n",
       "  'qn': 8,\n",
       "  'discount': 9,\n",
       "  'expiry_date': '1year_warrenty'},\n",
       " '16': {'name': 'helmet',\n",
       "  'pr': 900,\n",
       "  'qn': 300,\n",
       "  'discount': 3.5,\n",
       "  'expiry_date': '3yearWarrenty'},\n",
       " '17': {'name': 'pizza',\n",
       "  'pr': 99,\n",
       "  'qn': 70,\n",
       "  'discount': 9,\n",
       "  'expiry_date': 'after24_hours'},\n",
       " '18': {'name': 'burger',\n",
       "  'pr': 129,\n",
       "  'qn': 90,\n",
       "  'discount': 8,\n",
       "  'expiry_date': 'after24_hours'},\n",
       " '19': {'name': 'cement',\n",
       "  'pr': 650,\n",
       "  'qn': 900,\n",
       "  'discount': 5,\n",
       "  'expiry_date': 'aftr6_months'},\n",
       " '20': {'name': 'Battery',\n",
       "  'pr': 1000,\n",
       "  'qn': 30,\n",
       "  'discount': 22,\n",
       "  'expiry_date': '1year_warrenty'},\n",
       " '21': {'name': 'paint',\n",
       "  'pr': 20000,\n",
       "  'qn': 66,\n",
       "  'discount': 14,\n",
       "  'expiry_date': 'after2year'},\n",
       " '22': {'name': 'Shoes',\n",
       "  'pr': 990,\n",
       "  'qn': 34,\n",
       "  'discount': 23,\n",
       "  'expiry_date': '1year_warrenty'},\n",
       " '23': {'name': 'tshirt',\n",
       "  'pr': 790,\n",
       "  'qn': 340,\n",
       "  'discount': 1,\n",
       "  'expiry_date': '2year_garenty'},\n",
       " '24': {'name': 'pant',\n",
       "  'pr': 690,\n",
       "  'qn': 630,\n",
       "  'discount': 3,\n",
       "  'expiry_date': 'after6_yeaer'},\n",
       " '25': {'name': 'icecream',\n",
       "  'pr': 50,\n",
       "  'qn': 730,\n",
       "  'discount': 2,\n",
       "  'expiry_date': 'after2_months'},\n",
       " '26': {'name': 'farsan',\n",
       "  'pr': 900,\n",
       "  'qn': 80,\n",
       "  'discount': 7,\n",
       "  'expiry_date': '6mothsafter_packaging'},\n",
       " '27': {'name': 'nirma',\n",
       "  'pr': 390,\n",
       "  'qn': 90,\n",
       "  'discount': 8,\n",
       "  'expiry_date': '8may2022'},\n",
       " '28': {'name': 'Rasna',\n",
       "  'pr': 190,\n",
       "  'qn': 120,\n",
       "  'discount': 3,\n",
       "  'expiry_date': 'after_6month'},\n",
       " '29': {'name': 'mango_juice',\n",
       "  'pr': 70,\n",
       "  'qn': 50,\n",
       "  'discount': 0.1,\n",
       "  'expiry_date': 'after24_hours'},\n",
       " '30': {'name': 'Cadbury',\n",
       "  'pr': 180,\n",
       "  'qn': 50,\n",
       "  'discount': 0.2,\n",
       "  'expiry_date': 'after3_month'},\n",
       " 31: {'name': 'oil',\n",
       "  'pr': '5000',\n",
       "  'qn': '4',\n",
       "  'discount': '6',\n",
       "  'expiry_date': 'after_1_year'}}"
      ]
     },
     "execution_count": 38,
     "metadata": {},
     "output_type": "execute_result"
    }
   ],
   "source": [
    "z"
   ]
  },
  {
   "cell_type": "markdown",
   "id": "1859cffb",
   "metadata": {},
   "source": [
    "ADDNEWITEMININVENTRY"
   ]
  },
  {
   "cell_type": "code",
   "execution_count": 43,
   "id": "c0f2ac07",
   "metadata": {},
   "outputs": [
    {
     "name": "stdout",
     "output_type": "stream",
     "text": [
      "Product Id:33\n",
      "Product name:socks\n",
      "Product price:409\n",
      "quantity:40\n",
      "Discount:6\n",
      "Expiry Date:no\n"
     ]
    }
   ],
   "source": [
    "prod_id=int(input(\"Product Id:\"))\n",
    "name=input(\"Product name:\")\n",
    "pr=input(\"Product price:\") \n",
    "qn=input(\"quantity:\")\n",
    "discount=input(\"Discount:\")\n",
    "expiry_date=input(\"Expiry Date:\")\n",
    "\n",
    "z[prod_id]={'name':name,'pr':pr,'qn':qn,'discount':discount,'expiry_date':expiry_date}\n",
    "\n",
    "js = json.dumps(z)\n",
    "\n",
    "fd = open(\"z.json\",'w')\n",
    "fd.write(js)\n",
    "fd.close()"
   ]
  },
  {
   "cell_type": "code",
   "execution_count": null,
   "id": "dd825819",
   "metadata": {},
   "outputs": [],
   "source": []
  },
  {
   "cell_type": "code",
   "execution_count": 44,
   "id": "156898c7",
   "metadata": {},
   "outputs": [
    {
     "data": {
      "text/plain": [
       "{'1': {'name': 'choco_cake',\n",
       "  'pr': 100,\n",
       "  'qn': 99,\n",
       "  'discount': 0.6,\n",
       "  'expiry_date': '2may'},\n",
       " '2': {'name': 'milk',\n",
       "  'pr': 80,\n",
       "  'qn': 94,\n",
       "  'discount': 0.2,\n",
       "  'expiry_date': '2days'},\n",
       " '3': {'name': 'drink',\n",
       "  'pr': 90,\n",
       "  'qn': 30,\n",
       "  'discount': 2,\n",
       "  'expiry_date': '29jan'},\n",
       " '4': {'name': 'coffee',\n",
       "  'pr': 30,\n",
       "  'qn': 20,\n",
       "  'discount': 0.1,\n",
       "  'expiry_date': 'that_day'},\n",
       " '5': {'name': 'roti',\n",
       "  'pr': 15,\n",
       "  'qn': 50,\n",
       "  'discount': 0.5,\n",
       "  'expiry_date': 'before24_hours'},\n",
       " '6': {'name': 'pen',\n",
       "  'pr': 10,\n",
       "  'qn': 90,\n",
       "  'discount': 0.9,\n",
       "  'expiry_date': 'before1year'},\n",
       " '7': {'name': 'biscuit',\n",
       "  'pr': 10,\n",
       "  'qn': 30,\n",
       "  'discount': 0.3,\n",
       "  'expiry_date': '6moths_from_manifacture'},\n",
       " '8': {'name': 'soap',\n",
       "  'pr': 40,\n",
       "  'qn': 60,\n",
       "  'discount': 5,\n",
       "  'expiry_date': '1year'},\n",
       " '9': {'name': 'colgate',\n",
       "  'pr': 80,\n",
       "  'qn': 70,\n",
       "  'discount': 0.7,\n",
       "  'expiry_date': '5jun2021'},\n",
       " '10': {'name': 'facewash',\n",
       "  'pr': 45,\n",
       "  'qn': 60,\n",
       "  'discount': 3,\n",
       "  'expiry_date': 'after6_months'},\n",
       " '11': {'name': 'mobile',\n",
       "  'pr': 60000,\n",
       "  'qn': 30,\n",
       "  'discount': 10,\n",
       "  'expiry_date': '1year_warrenty'},\n",
       " '12': {'name': 'bulb',\n",
       "  'pr': 90,\n",
       "  'qn': 45,\n",
       "  'discount': 0.6,\n",
       "  'expiry_date': 'after1_year'},\n",
       " '13': {'name': 'watch',\n",
       "  'pr': 580,\n",
       "  'qn': 98,\n",
       "  'discount': 13,\n",
       "  'expiry_date': '1Year_warrenty'},\n",
       " '14': {'name': 'Khurchi',\n",
       "  'pr': 600,\n",
       "  'qn': 43,\n",
       "  'discount': 0.9,\n",
       "  'expiry_date': '1year_warrenty'},\n",
       " '15': {'name': 'bat',\n",
       "  'pr': 6000,\n",
       "  'qn': 8,\n",
       "  'discount': 9,\n",
       "  'expiry_date': '1year_warrenty'},\n",
       " '16': {'name': 'helmet',\n",
       "  'pr': 900,\n",
       "  'qn': 300,\n",
       "  'discount': 3.5,\n",
       "  'expiry_date': '3yearWarrenty'},\n",
       " '17': {'name': 'pizza',\n",
       "  'pr': 99,\n",
       "  'qn': 70,\n",
       "  'discount': 9,\n",
       "  'expiry_date': 'after24_hours'},\n",
       " '18': {'name': 'burger',\n",
       "  'pr': 129,\n",
       "  'qn': 90,\n",
       "  'discount': 8,\n",
       "  'expiry_date': 'after24_hours'},\n",
       " '19': {'name': 'cement',\n",
       "  'pr': 650,\n",
       "  'qn': 900,\n",
       "  'discount': 5,\n",
       "  'expiry_date': 'aftr6_months'},\n",
       " '20': {'name': 'Battery',\n",
       "  'pr': 1000,\n",
       "  'qn': 30,\n",
       "  'discount': 22,\n",
       "  'expiry_date': '1year_warrenty'},\n",
       " '21': {'name': 'paint',\n",
       "  'pr': 20000,\n",
       "  'qn': 66,\n",
       "  'discount': 14,\n",
       "  'expiry_date': 'after2year'},\n",
       " '22': {'name': 'Shoes',\n",
       "  'pr': 990,\n",
       "  'qn': 34,\n",
       "  'discount': 23,\n",
       "  'expiry_date': '1year_warrenty'},\n",
       " '23': {'name': 'tshirt',\n",
       "  'pr': 790,\n",
       "  'qn': 340,\n",
       "  'discount': 1,\n",
       "  'expiry_date': '2year_garenty'},\n",
       " '24': {'name': 'pant',\n",
       "  'pr': 690,\n",
       "  'qn': 630,\n",
       "  'discount': 3,\n",
       "  'expiry_date': 'after6_yeaer'},\n",
       " '25': {'name': 'icecream',\n",
       "  'pr': 50,\n",
       "  'qn': 730,\n",
       "  'discount': 2,\n",
       "  'expiry_date': 'after2_months'},\n",
       " '26': {'name': 'farsan',\n",
       "  'pr': 900,\n",
       "  'qn': 80,\n",
       "  'discount': 7,\n",
       "  'expiry_date': '6mothsafter_packaging'},\n",
       " '27': {'name': 'nirma',\n",
       "  'pr': 390,\n",
       "  'qn': 90,\n",
       "  'discount': 8,\n",
       "  'expiry_date': '8may2022'},\n",
       " '28': {'name': 'Rasna',\n",
       "  'pr': 190,\n",
       "  'qn': 120,\n",
       "  'discount': 3,\n",
       "  'expiry_date': 'after_6month'},\n",
       " '29': {'name': 'mango_juice',\n",
       "  'pr': 70,\n",
       "  'qn': 50,\n",
       "  'discount': 0.1,\n",
       "  'expiry_date': 'after24_hours'},\n",
       " '30': {'name': 'Cadbury',\n",
       "  'pr': 180,\n",
       "  'qn': 50,\n",
       "  'discount': 0.2,\n",
       "  'expiry_date': 'after3_month'},\n",
       " 31: {'name': 'oil',\n",
       "  'pr': '5000',\n",
       "  'qn': '4',\n",
       "  'discount': '6',\n",
       "  'expiry_date': 'after_1_year'},\n",
       " 32: {'name': 'belt',\n",
       "  'pr': '90',\n",
       "  'qn': '90',\n",
       "  'discount': '5',\n",
       "  'expiry_date': '1yearwarrenty'},\n",
       " 33: {'name': 'socks',\n",
       "  'pr': '409',\n",
       "  'qn': '40',\n",
       "  'discount': '6',\n",
       "  'expiry_date': 'no'}}"
      ]
     },
     "execution_count": 44,
     "metadata": {},
     "output_type": "execute_result"
    }
   ],
   "source": [
    "z"
   ]
  },
  {
   "cell_type": "code",
   "execution_count": 47,
   "id": "d7b1d300",
   "metadata": {},
   "outputs": [],
   "source": [
    "import time"
   ]
  },
  {
   "cell_type": "code",
   "execution_count": 48,
   "id": "e12ba35e",
   "metadata": {},
   "outputs": [
    {
     "data": {
      "text/plain": [
       "'Mon Sep  6 15:01:20 2021'"
      ]
     },
     "execution_count": 48,
     "metadata": {},
     "output_type": "execute_result"
    }
   ],
   "source": [
    "time.ctime()"
   ]
  }
 ],
 "metadata": {
  "kernelspec": {
   "display_name": "Python 3",
   "language": "python",
   "name": "python3"
  },
  "language_info": {
   "codemirror_mode": {
    "name": "ipython",
    "version": 3
   },
   "file_extension": ".py",
   "mimetype": "text/x-python",
   "name": "python",
   "nbconvert_exporter": "python",
   "pygments_lexer": "ipython3",
   "version": "3.8.8"
  }
 },
 "nbformat": 4,
 "nbformat_minor": 5
}
