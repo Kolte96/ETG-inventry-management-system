{
 "cells": [
  {
   "cell_type": "code",
   "execution_count": 2,
   "id": "cf7b86ae",
   "metadata": {},
   "outputs": [],
   "source": [
    "fd = open(\"bob.txt\",'r')\n",
    "v= fd.read()\n",
    "fd.close()"
   ]
  },
  {
   "cell_type": "code",
   "execution_count": 3,
   "id": "c499c521",
   "metadata": {},
   "outputs": [],
   "source": [
    "import json"
   ]
  },
  {
   "cell_type": "code",
   "execution_count": 4,
   "id": "8ee69779",
   "metadata": {},
   "outputs": [],
   "source": [
    "js = json.dumps(v)"
   ]
  },
  {
   "cell_type": "code",
   "execution_count": 5,
   "id": "28835527",
   "metadata": {},
   "outputs": [],
   "source": [
    "fs = open(\"bob.json\",'w')\n",
    "fs.write(js)\n",
    "fs.close()"
   ]
  },
  {
   "cell_type": "code",
   "execution_count": 10,
   "id": "0ed38504",
   "metadata": {},
   "outputs": [],
   "source": [
    "fs= open(\"bob.json\",'r')\n",
    "d=fs.read()\n",
    "fs.close()"
   ]
  },
  {
   "cell_type": "code",
   "execution_count": 11,
   "id": "ebf26d4f",
   "metadata": {},
   "outputs": [],
   "source": [
    "c=json.loads(d)"
   ]
  },
  {
   "cell_type": "code",
   "execution_count": 12,
   "id": "1e7b4c07",
   "metadata": {},
   "outputs": [],
   "source": [
    "a=json.loads(c)"
   ]
  },
  {
   "cell_type": "code",
   "execution_count": null,
   "id": "e2023819",
   "metadata": {},
   "outputs": [],
   "source": []
  },
  {
   "cell_type": "code",
   "execution_count": 17,
   "id": "02745625",
   "metadata": {},
   "outputs": [
    {
     "name": "stdout",
     "output_type": "stream",
     "text": [
      "Enter the product id4\n",
      "Enter the quantity4\n",
      "Product: coffee\n",
      "Price: 30\n",
      "Quantity: 20\n",
      "Discount: 0.1\n",
      "Expiry_date: that_day\n",
      "Billing of product: 120\n",
      "Total discount: 3.0\n",
      "Total Bill: 117.0\n"
     ]
    }
   ],
   "source": [
    "ui_prod =input(str(\"Enter the product id\"))\n",
    "ui_quant = input(\"Enter the quantity\")\n",
    "\n",
    "print(\"Product:\",p[ui_prod]['name'])\n",
    "print(\"Price:\",p[ui_prod]['pr'])\n",
    "print(\"Quantity:\",p[ui_prod]['qn'])\n",
    "print(\"Discount:\",p[ui_prod]['discount'])\n",
    "print(\"Expiry_date:\",p[ui_prod]['expiry_date'])\n",
    "print(\"Billing of product:\",p[ui_prod]['pr'] * int(ui_quant))\n",
    "print(\"Total discount:\",p[ui_prod]['pr']  * (p[ui_prod]['discount']))\n",
    "print(\"Total Bill:\",(p[ui_prod]['pr'] * int(ui_quant)) - (p[ui_prod]['pr'])  * (p[ui_prod]['discount']))\n"
   ]
  },
  {
   "cell_type": "code",
   "execution_count": null,
   "id": "7740a9e5",
   "metadata": {},
   "outputs": [],
   "source": []
  },
  {
   "cell_type": "code",
   "execution_count": 19,
   "id": "517e8300",
   "metadata": {},
   "outputs": [
    {
     "name": "stdout",
     "output_type": "stream",
     "text": [
      "enter the product id4\n",
      "enter the quantity5\n",
      "product: coffee\n",
      "price: 30\n",
      "billing: 100\n"
     ]
    }
   ],
   "source": [
    "ui_prod =input(str(\"enter the product id\"))\n",
    "ui_quant = input(\"enter the quantity\")\n",
    "\n",
    "print(\"product:\",a[ui_prod]['name'])\n",
    "print(\"price:\",a[ui_prod]['pr'])\n",
    "print(\"billing:\",a[ui_prod]['qn'] * int(ui_quant))\n",
    "\n",
    "a[ui_prod]['qn'] = a[ui_prod]['qn'] - int(ui_quant)\n"
   ]
  },
  {
   "cell_type": "code",
   "execution_count": 21,
   "id": "fd71e678",
   "metadata": {},
   "outputs": [
    {
     "data": {
      "text/plain": [
       "{'1': {'name': 'choco_cake',\n",
       "  'pr': 100,\n",
       "  'qn': 99,\n",
       "  'discount': 0.6,\n",
       "  'expiry_date': '2may'},\n",
       " '2': {'name': 'milk',\n",
       "  'pr': 80,\n",
       "  'qn': 94,\n",
       "  'discount': 0.2,\n",
       "  'expiry_date': '2days'},\n",
       " '3': {'name': 'drink',\n",
       "  'pr': 90,\n",
       "  'qn': 30,\n",
       "  'discount': 2,\n",
       "  'expiry_date': '29jan'},\n",
       " '4': {'name': 'coffee',\n",
       "  'pr': 30,\n",
       "  'qn': 15,\n",
       "  'discount': 0.1,\n",
       "  'expiry_date': 'that_day'},\n",
       " '5': {'name': 'roti',\n",
       "  'pr': 15,\n",
       "  'qn': 50,\n",
       "  'discount': 0.5,\n",
       "  'expiry_date': 'before24_hours'},\n",
       " '6': {'name': 'pen',\n",
       "  'pr': 10,\n",
       "  'qn': 90,\n",
       "  'discount': 0.9,\n",
       "  'expiry_date': 'before1year'},\n",
       " '7': {'name': 'biscuit',\n",
       "  'pr': 10,\n",
       "  'qn': 30,\n",
       "  'discount': 0.3,\n",
       "  'expiry_date': '6moths_from_manifacture'},\n",
       " '8': {'name': 'soap',\n",
       "  'pr': 40,\n",
       "  'qn': 60,\n",
       "  'discount': 5,\n",
       "  'expiry_date': '1year'},\n",
       " '9': {'name': 'colgate',\n",
       "  'pr': 80,\n",
       "  'qn': 70,\n",
       "  'discount': 0.7,\n",
       "  'expiry_date': '5jun2021'},\n",
       " '10': {'name': 'facewash',\n",
       "  'pr': 45,\n",
       "  'qn': 60,\n",
       "  'discount': 3,\n",
       "  'expiry_date': 'after6_months'},\n",
       " '11': {'name': 'mobile',\n",
       "  'pr': 60000,\n",
       "  'qn': 30,\n",
       "  'discount': 10,\n",
       "  'expiry_date': '1year_warrenty'},\n",
       " '12': {'name': 'bulb',\n",
       "  'pr': 90,\n",
       "  'qn': 45,\n",
       "  'discount': 0.6,\n",
       "  'expiry_date': 'after1_year'},\n",
       " '13': {'name': 'watch',\n",
       "  'pr': 580,\n",
       "  'qn': 98,\n",
       "  'discount': 13,\n",
       "  'expiry_date': '1Year_warrenty'},\n",
       " '14': {'name': 'Khurchi',\n",
       "  'pr': 600,\n",
       "  'qn': 43,\n",
       "  'discount': 0.9,\n",
       "  'expiry_date': '1year_warrenty'},\n",
       " '15': {'name': 'bat',\n",
       "  'pr': 6000,\n",
       "  'qn': 8,\n",
       "  'discount': 9,\n",
       "  'expiry_date': '1year_warrenty'},\n",
       " '16': {'name': 'helmet',\n",
       "  'pr': 900,\n",
       "  'qn': 300,\n",
       "  'discount': 3.5,\n",
       "  'expiry_date': '3yearWarrenty'},\n",
       " '17': {'name': 'pizza',\n",
       "  'pr': 99,\n",
       "  'qn': 70,\n",
       "  'discount': 9,\n",
       "  'expiry_date': 'after24_hours'},\n",
       " '18': {'name': 'burger',\n",
       "  'pr': 129,\n",
       "  'qn': 90,\n",
       "  'discount': 8,\n",
       "  'expiry_date': 'after24_hours'},\n",
       " '19': {'name': 'cement',\n",
       "  'pr': 650,\n",
       "  'qn': 900,\n",
       "  'discount': 5,\n",
       "  'expiry_date': 'aftr6_months'},\n",
       " '20': {'name': 'Battery',\n",
       "  'pr': 1000,\n",
       "  'qn': 30,\n",
       "  'discount': 22,\n",
       "  'expiry_date': '1year_warrenty'},\n",
       " '21': {'name': 'paint',\n",
       "  'pr': 20000,\n",
       "  'qn': 66,\n",
       "  'discount': 14,\n",
       "  'expiry_date': 'after2year'},\n",
       " '22': {'name': 'Shoes',\n",
       "  'pr': 990,\n",
       "  'qn': 34,\n",
       "  'discount': 23,\n",
       "  'expiry_date': '1year_warrenty'},\n",
       " '23': {'name': 'tshirt',\n",
       "  'pr': 790,\n",
       "  'qn': 340,\n",
       "  'discount': 1,\n",
       "  'expiry_date': '2year_garenty'},\n",
       " '24': {'name': 'pant',\n",
       "  'pr': 690,\n",
       "  'qn': 630,\n",
       "  'discount': 3,\n",
       "  'expiry_date': 'after6_yeaer'},\n",
       " '25': {'name': 'icecream',\n",
       "  'pr': 50,\n",
       "  'qn': 730,\n",
       "  'discount': 2,\n",
       "  'expiry_date': 'after2_months'},\n",
       " '26': {'name': 'farsan',\n",
       "  'pr': 900,\n",
       "  'qn': 80,\n",
       "  'discount': 7,\n",
       "  'expiry_date': '6mothsafter_packaging'},\n",
       " '27': {'name': 'nirma',\n",
       "  'pr': 390,\n",
       "  'qn': 90,\n",
       "  'discount': 8,\n",
       "  'expiry_date': '8may2022'},\n",
       " '28': {'name': 'Rasna',\n",
       "  'pr': 190,\n",
       "  'qn': 120,\n",
       "  'discount': 3,\n",
       "  'expiry_date': 'after_6month'},\n",
       " '29': {'name': 'mango_juice',\n",
       "  'pr': 70,\n",
       "  'qn': 50,\n",
       "  'discount': 0.1,\n",
       "  'expiry_date': 'after24_hours'},\n",
       " '30': {'name': 'Cadbury',\n",
       "  'pr': 180,\n",
       "  'qn': 50,\n",
       "  'discount': 0.2,\n",
       "  'expiry_date': 'after3_month'}}"
      ]
     },
     "execution_count": 21,
     "metadata": {},
     "output_type": "execute_result"
    }
   ],
   "source": [
    "a"
   ]
  },
  {
   "cell_type": "code",
   "execution_count": null,
   "id": "01f52c65",
   "metadata": {},
   "outputs": [],
   "source": []
  },
  {
   "cell_type": "code",
   "execution_count": 22,
   "id": "f519a22e",
   "metadata": {},
   "outputs": [],
   "source": [
    "\n",
    "js = json.dumps(a)\n",
    "\n",
    "fd = open(\"a.json\",'w')\n",
    "fd.write(js)\n",
    "fd.close()"
   ]
  }
 ],
 "metadata": {
  "kernelspec": {
   "display_name": "Python 3",
   "language": "python",
   "name": "python3"
  },
  "language_info": {
   "codemirror_mode": {
    "name": "ipython",
    "version": 3
   },
   "file_extension": ".py",
   "mimetype": "text/x-python",
   "name": "python",
   "nbconvert_exporter": "python",
   "pygments_lexer": "ipython3",
   "version": "3.8.8"
  }
 },
 "nbformat": 4,
 "nbformat_minor": 5
}
